{
 "cells": [
  {
   "cell_type": "code",
   "execution_count": null,
   "metadata": {},
   "outputs": [
    {
     "ename": "ModuleNotFoundError",
     "evalue": "No module named 'google'",
     "output_type": "error",
     "traceback": [
      "\u001b[0;31m---------------------------------------------------------------------------\u001b[0m",
      "\u001b[0;31mModuleNotFoundError\u001b[0m                       Traceback (most recent call last)",
      "Cell \u001b[0;32mIn[40], line 7\u001b[0m\n\u001b[1;32m      1\u001b[0m \u001b[38;5;124;03m\"\"\"\u001b[39;00m\n\u001b[1;32m      2\u001b[0m \u001b[38;5;124;03mCustom cell to save collab data for original sims\u001b[39;00m\n\u001b[1;32m      3\u001b[0m \u001b[38;5;124;03minserted into the notebook at cell 8 on 10/02/2023 by Vishal Jain\u001b[39;00m\n\u001b[1;32m      4\u001b[0m \u001b[38;5;124;03mhttps://colab.research.google.com/github/MilesCranmer/symbolic_deep_learning/blob/master/GN_Demo_Colab.ipynb#scrollTo=_iWH9BfUZl-r\u001b[39;00m\n\u001b[1;32m      5\u001b[0m \u001b[38;5;124;03m\"\"\"\u001b[39;00m\n\u001b[1;32m      6\u001b[0m \u001b[38;5;28;01mfrom\u001b[39;00m \u001b[38;5;21;01msimulate\u001b[39;00m \u001b[38;5;28;01mimport\u001b[39;00m SimulationDataset\n\u001b[0;32m----> 7\u001b[0m \u001b[38;5;28;01mfrom\u001b[39;00m \u001b[38;5;21;01mgoogle\u001b[39;00m\u001b[38;5;21;01m.\u001b[39;00m\u001b[38;5;21;01mcolab\u001b[39;00m \u001b[38;5;28;01mimport\u001b[39;00m drive\n\u001b[1;32m      8\u001b[0m drive\u001b[38;5;241m.\u001b[39mmount(\u001b[38;5;124m'\u001b[39m\u001b[38;5;124m/content/drive\u001b[39m\u001b[38;5;124m'\u001b[39m)\n\u001b[1;32m      9\u001b[0m SEED\u001b[38;5;241m=\u001b[39m\u001b[38;5;241m42\u001b[39m\n",
      "\u001b[0;31mModuleNotFoundError\u001b[0m: No module named 'google'"
     ]
    }
   ],
   "source": [
    "\"\"\"\n",
    "Custom cell to save collab data for original sims\n",
    "inserted into the notebook at cell 8 on 10/02/2023 by Vishal Jain\n",
    "https://colab.research.google.com/github/MilesCranmer/symbolic_deep_learning/blob/master/GN_Demo_Colab.ipynb#scrollTo=_iWH9BfUZl-r\n",
    "\"\"\"\n",
    "from simulate import SimulationDataset\n",
    "from google.colab import drive\n",
    "import numpy as np\n",
    "\n",
    "drive.mount(\"/content/drive\")\n",
    "SEED = 42\n",
    "ns = 5\n",
    "for ss in sim_sets:\n",
    "    sim = ss[\"sim\"]\n",
    "    if sim in [\"r1\", \"r2\", \"charge\", \"spring\", \"damped\", \"discontinous\"]:\n",
    "        for n in ss[\"n\"]:\n",
    "            for dim in ss[\"dim\"]:\n",
    "                dt = ss[\"dt\"][0]\n",
    "                nt = ss[\"nt\"][0]\n",
    "                s = SimulationDataset(\n",
    "                    sim, n=n, dim=dim, nt=nt, dt=dt\n",
    "                )  # nt//20 datasets reduced to 1/40th of the original size for memory reasons\n",
    "                title = (\n",
    "                    \"colab_sim={}_key={}_ns={}_n={}_dim={}_nt={}_dt={}\".format(\n",
    "                        sim, SEED, ns, n, dim, nt, dt\n",
    "                    )\n",
    "                )\n",
    "                print(\"Running on\", title)\n",
    "                s.simulate(ns, key=SEED)\n",
    "                np.save(\n",
    "                    f\"drive/MyDrive/mphil_project/data/original_colab_data/{title}.npy\",\n",
    "                    s.data,\n",
    "                )\n",
    "                print(\"Saved run!\")"
   ]
  },
  {
   "cell_type": "code",
   "execution_count": 3,
   "metadata": {},
   "outputs": [
    {
     "name": "stdout",
     "output_type": "stream",
     "text": [
      "Data not equal at time step 159\n",
      "Colab data for first body [[ 1.3042164   0.9814258   0.37747878 -0.41222638 -0.20222653  0.18271136]\n",
      " [-1.197527   -0.47191486  0.7170125  -1.9535376  -1.1005951   2.7955315 ]\n",
      " [ 0.3033802  -0.4703089   0.5919484   0.5930488  -1.6809258   1.0358384 ]\n",
      " [ 0.3013755   1.1393157   0.28055638  0.8894094   1.1677014   0.10828348]\n",
      " [ 2.2689323  -0.09542692 -1.4574335  -0.05348722  0.5716415   1.135643  ]]\n",
      "New data for first body [[ 1.3042166   0.98142725  0.37747848 -0.41222635 -0.20222653  0.18271136]\n",
      " [-1.197527   -0.47191486  0.7170125  -1.9535376  -1.1005951   2.7955315 ]\n",
      " [ 0.3033802  -0.4703089   0.5919484   0.5930488  -1.6809258   1.0358384 ]\n",
      " [ 0.3013755   1.1393157   0.28055638  0.8894094   1.1677014   0.10828348]\n",
      " [ 2.2689323  -0.09542692 -1.4574335  -0.05348722  0.5716415   1.135643  ]]\n"
     ]
    }
   ],
   "source": [
    "import numpy as np\n",
    "\n",
    "colab_data_path = \"/Users/vishaljain/project/colab_sim_data/colab_sim=r2_key=42_ns=5_n=4_dim=2_nt=1000_dt=0.001.npy\"\n",
    "new_data_path = \"/Users/vishaljain/project/sim_data/local_sim=r2_key=42_ns=5_n=4_dim=2_nt=1000_dt=0.001.npy\"\n",
    "\n",
    "colab_data = np.load(colab_data_path)\n",
    "new_data = np.load(new_data_path)\n",
    "\n",
    "# loop over time axis for a single sim and check if they are equal\n",
    "for i in range(colab_data.shape[1]):\n",
    "    if np.allclose(colab_data[:, i], new_data[:, i]):\n",
    "        i += 1\n",
    "    else:\n",
    "        print(\"Data not equal at time step\", i)\n",
    "        print(\"Colab data for first body\", colab_data[:, i, 0])\n",
    "        print(\"New data for first body\", new_data[:, i, 0])\n",
    "        break"
   ]
  },
  {
   "cell_type": "code",
   "execution_count": 15,
   "metadata": {},
   "outputs": [
    {
     "name": "stdout",
     "output_type": "stream",
     "text": [
      "Data not equal at time step 661 for sim=r1, n=8, dim=2\n",
      "Colab data for first body [-2.2167478  -2.1893718  -0.85543907  0.7472024   0.04691693  0.4549926 ]\n",
      "New data for first body [-2.2167492  -2.1893697  -0.8554389   0.7472033   0.04691693  0.4549926 ]\n",
      "\n",
      "\n",
      "Data not equal at time step 58 for sim=charge, n=4, dim=2\n",
      "Colab data for first body [ 1.2631352   1.0166491   0.2500642  -0.15758552 -1.          0.18271136]\n",
      "New data for first body [ 1.2631342   1.0166492   0.25006413 -0.15758543 -1.          0.18271136]\n",
      "\n",
      "\n"
     ]
    }
   ],
   "source": [
    "import numpy as np\n",
    "\n",
    "\"\"\"\n",
    "Return the relative difference for each sim step\n",
    "\n",
    "\"\"\"\n",
    "# Define the base paths for colab and local data\n",
    "colab_base_path = (\n",
    "    \"/Users/vishaljain/project/simulations/test_local_sim_data/local_\"\n",
    ")\n",
    "local_base_path = (\n",
    "    \"/Users/vishaljain/project/simulations/test_docker_sim_data/docker_\"\n",
    ")\n",
    "\n",
    "# Define the variations in simulation parameters\n",
    "sims = [\"r1\", \"r2\", \"charge\", \"damped\", \"spring\"]\n",
    "dims = [2, 3]\n",
    "ns = [4, 8]\n",
    "\n",
    "# Iterate over each combination of simulation parameters\n",
    "for sim in sims:\n",
    "    for dim in dims:\n",
    "        for n in ns:\n",
    "            # Construct the file name for each combination\n",
    "            file_name = f\"sim={sim}_key=42_ns=5_n={n}_dim={dim}_nt=1000_dt=\"\n",
    "            if sim == \"damped\":\n",
    "                dt = \"2e-02\" if dim == 2 else \"2e-02\"\n",
    "            elif sim == \"discontinuous\" or sim == \"spring\":\n",
    "                dt = \"1e-02\"\n",
    "            elif sim == \"r1\":\n",
    "                dt = \"5e-03\"\n",
    "            else:  # For r2 and charge simulations\n",
    "                dt = \"1e-03\"\n",
    "\n",
    "            # Complete file paths\n",
    "            colab_data_path = colab_base_path + file_name + dt + \".npy\"\n",
    "            new_data_path = local_base_path + file_name + dt + \".npy\"\n",
    "\n",
    "            # Load the data\n",
    "            colab_data = np.load(colab_data_path)\n",
    "            new_data = np.load(new_data_path)\n",
    "\n",
    "            # Loop over the time axis for a single sim and check if they are equal\n",
    "            for i in range(colab_data.shape[1]):\n",
    "                if not np.allclose(colab_data[0, i], new_data[0, i]):\n",
    "                    print(\n",
    "                        f\"Data not equal at time step {i} for sim={sim}, n={n}, dim={dim}\"\n",
    "                    )\n",
    "                    print(\n",
    "                        \"Colab data for first body\", colab_data[0, i, 0]\n",
    "                    )  # Assuming you want to print the first body\n",
    "                    print(\"New data for first body\", new_data[0, i, 0])\n",
    "                    print(\"\\n\")\n",
    "                    break"
   ]
  },
  {
   "cell_type": "markdown",
   "metadata": {},
   "source": [
    "Data not equal at time step 661 for sim=r1, n=8, dim=2\n",
    "Colab data for first body [-2.2167492  -2.1893697  -0.8554389   0.7472033   0.04691693  0.4549926 ]\n",
    "New data for first body [-2.2167478  -2.1893718  -0.85543907  0.7472024   0.04691693  0.4549926 ]\n",
    "\n",
    "\n",
    "Data not equal at time step 58 for sim=charge, n=4, dim=2\n",
    "Colab data for first body [ 1.2631342   1.0166492   0.25006413 -0.15758543 -1.          0.18271136]\n",
    "New data for first body [ 1.2631352   1.0166491   0.2500642  -0.15758552 -1.          0.18271136]\n",
    "\n"
   ]
  },
  {
   "cell_type": "code",
   "execution_count": 18,
   "metadata": {},
   "outputs": [
    {
     "ename": "TypeError",
     "evalue": "expected str, bytes or os.PathLike object, not set",
     "output_type": "error",
     "traceback": [
      "\u001b[0;31m---------------------------------------------------------------------------\u001b[0m",
      "\u001b[0;31mTypeError\u001b[0m                                 Traceback (most recent call last)",
      "Cell \u001b[0;32mIn[18], line 2\u001b[0m\n\u001b[1;32m      1\u001b[0m data_1 \u001b[38;5;241m=\u001b[39m np\u001b[38;5;241m.\u001b[39mload(\u001b[38;5;124m\"\u001b[39m\u001b[38;5;124m/Users/vishaljain/project/simulations/test_local_sim_data/local_sim=r2_key=42_ns=5_n=4_dim=2_nt=1000_dt=1e-03.npy\u001b[39m\u001b[38;5;124m\"\u001b[39m)\n\u001b[0;32m----> 2\u001b[0m data_2 \u001b[38;5;241m=\u001b[39m \u001b[43mnp\u001b[49m\u001b[38;5;241;43m.\u001b[39;49m\u001b[43mload\u001b[49m\u001b[43m(\u001b[49m\u001b[43m{\u001b[49m\u001b[38;5;124;43m\"\u001b[39;49m\u001b[38;5;124;43m/Users/vishaljain/project/test_cli/sim=r2_ns5_seed42_n_body=4_dim=2_nt=1000_dt=1e-03_data.npy\u001b[39;49m\u001b[38;5;124;43m\"\u001b[39;49m\u001b[43m}\u001b[49m\u001b[43m)\u001b[49m\n\u001b[1;32m      3\u001b[0m np\u001b[38;5;241m.\u001b[39mallclose(data_1, data_2)\n",
      "File \u001b[0;32m~/anaconda3/envs/vj279_project_colab_sims/lib/python3.10/site-packages/numpy/lib/npyio.py:405\u001b[0m, in \u001b[0;36mload\u001b[0;34m(file, mmap_mode, allow_pickle, fix_imports, encoding, max_header_size)\u001b[0m\n\u001b[1;32m    403\u001b[0m     own_fid \u001b[38;5;241m=\u001b[39m \u001b[38;5;28;01mFalse\u001b[39;00m\n\u001b[1;32m    404\u001b[0m \u001b[38;5;28;01melse\u001b[39;00m:\n\u001b[0;32m--> 405\u001b[0m     fid \u001b[38;5;241m=\u001b[39m stack\u001b[38;5;241m.\u001b[39menter_context(\u001b[38;5;28mopen\u001b[39m(\u001b[43mos_fspath\u001b[49m\u001b[43m(\u001b[49m\u001b[43mfile\u001b[49m\u001b[43m)\u001b[49m, \u001b[38;5;124m\"\u001b[39m\u001b[38;5;124mrb\u001b[39m\u001b[38;5;124m\"\u001b[39m))\n\u001b[1;32m    406\u001b[0m     own_fid \u001b[38;5;241m=\u001b[39m \u001b[38;5;28;01mTrue\u001b[39;00m\n\u001b[1;32m    408\u001b[0m \u001b[38;5;66;03m# Code to distinguish from NumPy binary files and pickles.\u001b[39;00m\n",
      "\u001b[0;31mTypeError\u001b[0m: expected str, bytes or os.PathLike object, not set"
     ]
    }
   ],
   "source": [
    "data_1 = np.load(\n",
    "    \"/Users/vishaljain/project/simulations/test_local_sim_data/local_sim=r2_key=42_ns=5_n=4_dim=2_nt=1000_dt=1e-03.npy\"\n",
    ")\n",
    "data_2 = np.load(\n",
    "    \"/Users/vishaljain/project/test_cli/sim=r2_ns5_seed42_n_body=4_dim=2_nt=1000_dt=1e-03_data.npy\"\n",
    ")\n",
    "np.allclose(data_1, data_2)"
   ]
  }
 ],
 "metadata": {
  "kernelspec": {
   "display_name": "vj279_project",
   "language": "python",
   "name": "python3"
  },
  "language_info": {
   "codemirror_mode": {
    "name": "ipython",
    "version": 3
   },
   "file_extension": ".py",
   "mimetype": "text/x-python",
   "name": "python",
   "nbconvert_exporter": "python",
   "pygments_lexer": "ipython3",
   "version": "3.10.12"
  }
 },
 "nbformat": 4,
 "nbformat_minor": 2
}
